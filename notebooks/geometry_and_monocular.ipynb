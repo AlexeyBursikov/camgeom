{
 "cells": [
  {
   "cell_type": "markdown",
   "metadata": {},
   "source": [
    "# Практическая работа 1\n",
    "\n",
    "## Тема: геометрические преобразования и монокулярное зрение\n",
    "\n",
    "### Задачи: \n",
    "* знакомство с python, numpy, jupyter, matplotlib и проч.\n",
    "* применение пройденных геометрических преобразований\n",
    "* применение законов центральной проекции\n",
    "* применение обратного проецирования с априорными знаниями\n",
    "* ???\n",
    "\n",
    "### Prerequirements \n",
    "* интерпретатор python 2.7.xx\n",
    "* библиотеки numpy, matplotlib, scipy"
   ]
  },
  {
   "cell_type": "markdown",
   "metadata": {},
   "source": [
    "Это - интерактивная веб-оболочка для последовательного выполнения команд на языке Python.\n",
    "Она состоит из клеток(Cell), которые могут содержать как программный код, так и текст в синтаксисе разметки Markdown.\n",
    "\n",
    "Попробуйте для проверки изменить содержимое данного Cell."
   ]
  },
  {
   "cell_type": "markdown",
   "metadata": {},
   "source": [
    "Далее следует Cell с исходным кодом.\n",
    "Запустите ее чтобы получить результат"
   ]
  },
  {
   "cell_type": "code",
   "execution_count": 1,
   "metadata": {
    "collapsed": false
   },
   "outputs": [
    {
     "name": "stdout",
     "output_type": "stream",
     "text": [
      "hello, world!.  12\n"
     ]
    }
   ],
   "source": [
    "# тут можно вставлять комментарии\n",
    "print 'hello, world!. ', str(5 + 7)\n",
    "\n",
    "def generate_random_number():\n",
    "    return 4"
   ]
  },
  {
   "cell_type": "code",
   "execution_count": 2,
   "metadata": {
    "collapsed": false
   },
   "outputs": [
    {
     "name": "stdout",
     "output_type": "stream",
     "text": [
      "rolling... \n",
      "4\n"
     ]
    }
   ],
   "source": [
    "# разные клеточки делят все имена функций, классов, переменные и их значения.\n",
    "# а так же импортнутые модули и проч.\n",
    "print 'rolling... '\n",
    "print generate_random_number()"
   ]
  },
  {
   "cell_type": "markdown",
   "metadata": {},
   "source": [
    "Итак, давайте\n",
    "### Приступим к заданию\n",
    "\n",
    "для начала проверим, что установлены все библиотеки.\n",
    "у меня следующий код выводит что-то вроде\n",
    "\n",
    "\n",
    "numpy found, version is  1.11.0\n",
    "\n",
    "matplotlib found, version is  1.5.3\n",
    "\n",
    "scipy found, version is  0.17.0"
   ]
  },
  {
   "cell_type": "code",
   "execution_count": 2,
   "metadata": {
    "collapsed": false
   },
   "outputs": [
    {
     "name": "stdout",
     "output_type": "stream",
     "text": [
      "numpy found, version is  1.11.0\n",
      "matplotlib found, version is  1.5.3\n",
      "scipy found, version is  0.17.0\n"
     ]
    }
   ],
   "source": [
    "import numpy as np\n",
    "print 'numpy found, version is ', np.__version__\n",
    "\n",
    "import matplotlib as mpl\n",
    "import matplotlib.pyplot as plt # pyplot - обертка для интерактивного графопостроения.\n",
    "print 'matplotlib found, version is ', mpl.__version__\n",
    "\n",
    "import scipy\n",
    "print 'scipy found, version is ', scipy.__version__"
   ]
  },
  {
   "cell_type": "code",
   "execution_count": null,
   "metadata": {
    "collapsed": true
   },
   "outputs": [],
   "source": []
  }
 ],
 "metadata": {
  "kernelspec": {
   "display_name": "Python 2",
   "language": "python",
   "name": "python2"
  },
  "language_info": {
   "codemirror_mode": {
    "name": "ipython",
    "version": 2
   },
   "file_extension": ".py",
   "mimetype": "text/x-python",
   "name": "python",
   "nbconvert_exporter": "python",
   "pygments_lexer": "ipython2",
   "version": "2.7.11"
  }
 },
 "nbformat": 4,
 "nbformat_minor": 0
}
