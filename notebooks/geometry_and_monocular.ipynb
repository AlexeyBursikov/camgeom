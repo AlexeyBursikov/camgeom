{
 "cells": [
  {
   "cell_type": "markdown",
   "metadata": {
    "slideshow": {
     "slide_type": "slide"
    }
   },
   "source": [
    "# Практическая работа 1\n",
    "\n",
    "## Тема: геометрические преобразования и монокулярное зрение\n",
    "\n",
    "### Задачи: \n",
    "* знакомство с python, numpy, jupyter, matplotlib и проч.\n",
    "* применение пройденных геометрических преобразований\n",
    "* применение законов центральной проекции\n",
    "* применение обратного проецирования с априорными знаниями\n",
    "* ???\n",
    "\n",
    "### Prerequirements \n",
    "* интерпретатор python 2.7.xx\n",
    "* библиотеки numpy, matplotlib, scipy"
   ]
  },
  {
   "cell_type": "markdown",
   "metadata": {},
   "source": [
    "Это - интерактивная веб-оболочка для последовательного выполнения команд на языке Python.\n",
    "Она состоит из клеток(Cell), которые могут содержать как программный код, так и текст в синтаксисе разметки Markdown.\n",
    "\n",
    "Попробуйте для проверки изменить содержимое данного Cell. "
   ]
  },
  {
   "cell_type": "markdown",
   "metadata": {},
   "source": [
    "Далее следует Cell с исходным кодом.\n",
    "Запустите ее чтобы получить результат"
   ]
  },
  {
   "cell_type": "code",
   "execution_count": null,
   "metadata": {
    "collapsed": false
   },
   "outputs": [],
   "source": [
    "# тут можно вставлять комментарии\n",
    "print 'hello, world!. ', str(5 + 7)\n",
    "\n",
    "def generate_random_number():\n",
    "    return 4"
   ]
  },
  {
   "cell_type": "code",
   "execution_count": null,
   "metadata": {
    "collapsed": false
   },
   "outputs": [],
   "source": [
    "# разные клеточки делят все имена функций, классов, переменные и их значения.\n",
    "# а так же импортнутые модули и проч.\n",
    "print 'rolling... '\n",
    "print generate_random_number()"
   ]
  },
  {
   "cell_type": "markdown",
   "metadata": {},
   "source": [
    "Итак, давайте\n",
    "### Приступим к заданию\n",
    "\n",
    "для начала проверим, что установлены все библиотеки.\n",
    "у меня следующий код выводит что-то вроде\n",
    "\n",
    "\n",
    "numpy found, version is  1.11.0\n",
    "\n",
    "matplotlib found, version is  1.5.3\n",
    "\n",
    "scipy found, version is  0.17.0"
   ]
  },
  {
   "cell_type": "code",
   "execution_count": null,
   "metadata": {
    "collapsed": false
   },
   "outputs": [],
   "source": [
    "import numpy as np\n",
    "print 'numpy found, version is ', np.__version__\n",
    "\n",
    "import matplotlib as mpl\n",
    "import matplotlib.pyplot as plt # pyplot - обертка matplotlib для интерактивного графопостроения.\n",
    "print 'matplotlib found, version is ', mpl.__version__\n",
    "\n",
    "import scipy\n",
    "print 'scipy found, version is ', scipy.__version__"
   ]
  },
  {
   "cell_type": "markdown",
   "metadata": {
    "collapsed": true
   },
   "source": [
    "Если не вылезли ошибки, значит все хорошо и можно двигаться дальше. "
   ]
  },
  {
   "cell_type": "markdown",
   "metadata": {},
   "source": [
    "## Движения\n",
    "Для начала сгенерируем точки которые будем двигать."
   ]
  },
  {
   "cell_type": "code",
   "execution_count": null,
   "metadata": {
    "collapsed": false
   },
   "outputs": [],
   "source": [
    "import numpy.random\n",
    "\n",
    "def generate_2d_points(N):\n",
    "    return np.random.multivariate_normal(np.zeros(2), np.eye(2), N)\n",
    "\n",
    "points = generate_2d_points(10)\n",
    "\n",
    "print 'points generated. ', points.shape\n",
    "print points"
   ]
  },
  {
   "cell_type": "markdown",
   "metadata": {},
   "source": [
    "Мы сгенерировали массив точек, сами точки лежат вдоль первой координаты, их координаты - вдоль второй координаты.\n",
    "Можно посмотреть на наши точки:"
   ]
  },
  {
   "cell_type": "code",
   "execution_count": null,
   "metadata": {
    "collapsed": false
   },
   "outputs": [],
   "source": [
    "%matplotlib notebook # если эта строчка вызывает ошибки - обновить ipython и matplotlib. или убрать ее\n",
    "                     # или заменить на matplotlib inline.\n",
    "plt.scatter(points[:, 0], points[:, 1])\n",
    "plt.show()"
   ]
  },
  {
   "cell_type": "markdown",
   "metadata": {},
   "source": [
    "Напишите функцию для генерации 3хмерных точек:"
   ]
  },
  {
   "cell_type": "code",
   "execution_count": null,
   "metadata": {
    "collapsed": false
   },
   "outputs": [],
   "source": [
    "def generate_3d_points(N):\n",
    "    pass"
   ]
  },
  {
   "cell_type": "code",
   "execution_count": null,
   "metadata": {
    "collapsed": false
   },
   "outputs": [],
   "source": [
    "f = plt.figure()\n",
    "from mpl_toolkits import mplot3d\n",
    "ax = mplot3d.Axes3D(f)\n",
    "\n",
    "points3D = generate_3d_points(15)\n",
    "ax.scatter(points3D[:, 0], points3D[:, 1], points3D[:, 2])"
   ]
  },
  {
   "cell_type": "markdown",
   "metadata": {
    "collapsed": true
   },
   "source": [
    "Теперь попробуем повернуть наше облако точек:"
   ]
  },
  {
   "cell_type": "code",
   "execution_count": 10,
   "metadata": {
    "collapsed": false
   },
   "outputs": [
    {
     "name": "stdout",
     "output_type": "stream",
     "text": [
      "R =  [[ 0.5       -0.8660254  0.       ]\n",
      " [ 0.75       0.4330127 -0.5      ]\n",
      " [ 0.4330127  0.25       0.8660254]]\n",
      "||R||_2 =  1.0\n",
      "|R| =  1.0\n"
     ]
    }
   ],
   "source": [
    "def rot_matrix(angles):\n",
    "    cos = [np.math.cos(a) for a in angles]\n",
    "    sin = [np.math.sin(a) for a in angles]\n",
    "    Rz = np.array([[cos[2], -sin[2], 0],\n",
    "                   [sin[2], cos[2],  0],\n",
    "                   [     0,      0,  1]])\n",
    "\n",
    "    Ry = np.array([[ cos[1], 0, sin[1]],\n",
    "                   [      0, 1,      0],\n",
    "                   [-sin[1], 0, cos[1]]])\n",
    "\n",
    "    Rx = np.array([[1,      0,       0],\n",
    "                   [0, cos[0], -sin[0]],\n",
    "                   [0, sin[0], cos[0]]])\n",
    "    #Rs = [Rx, Ry, Rz]\n",
    "    return Ry.dot(Rx).dot(Rz)\n",
    "\n",
    "R = rot_matrix([np.pi / 6.0, 0, np.pi / 3.0])\n",
    "print 'R = ', R\n",
    "print '||R||_2 = ', np.linalg.norm(R, ord=2)\n",
    "print '|R| = ', np.linalg.det(R)\n"
   ]
  },
  {
   "cell_type": "markdown",
   "metadata": {},
   "source": [
    "* Примените операцию поворота к массиву points3D.\n",
    "* Добавьте к повороту смещение на вектор t=[0,10,0]"
   ]
  },
  {
   "cell_type": "code",
   "execution_count": null,
   "metadata": {
    "collapsed": true
   },
   "outputs": [],
   "source": [
    "# поворот вставьте сюда. отобразите результат\n",
    "def rotate(points, rot_mat):\n",
    "    pass\n",
    "\n",
    "rotated_points = rotate(points3D, R)"
   ]
  },
  {
   "cell_type": "code",
   "execution_count": null,
   "metadata": {
    "collapsed": true
   },
   "outputs": [],
   "source": [
    "t = np.array([0.0, 10.0, 0.0])\n",
    "# сдвиг вставьте сюда. отобразите результат\n",
    "def translate(points, t):\n",
    "    pass\n",
    "\n",
    "translated_points = translate(points, t)"
   ]
  },
  {
   "cell_type": "markdown",
   "metadata": {},
   "source": [
    "Теперь перейдем к однородным координатам.\n",
    "Используйте функцию 'np.hstack', чтобы присоединить единичку к векторам-точкам."
   ]
  },
  {
   "cell_type": "code",
   "execution_count": null,
   "metadata": {
    "collapsed": true
   },
   "outputs": [],
   "source": [
    "def make_homogenous(points):\n",
    "    return np.hstack([points, np.ones(points.shape[0])])\n",
    "\n",
    "# вставьте движение точек с помощью однородных координат сюда. отобразите результат\n",
    "def move(points, rot_mat, t):\n",
    "    pass\n",
    "\n"
   ]
  },
  {
   "cell_type": "markdown",
   "metadata": {},
   "source": [
    "Мы научились обращаться с массивом точек, поворачивать, двигать его, переводить в однородные координаты. \n",
    "Если в обозначенных функциях вы пользовались циклами, постарайтесь обойтись без них."
   ]
  },
  {
   "cell_type": "markdown",
   "metadata": {},
   "source": [
    "## Центральная проекция. Матрица камеры\n",
    "В этой части практической работы мы будем работать с камерой.\n",
    "Наши трехмерные точки, сгенерированный в первой части мы будем проецировать на изображение камеры и отображать."
   ]
  },
  {
   "cell_type": "markdown",
   "metadata": {},
   "source": [
    "## Репроекция точек с априорным знанием\n",
    "В этой части мы попробуем решать обратные задачи. На некотором изображении-примере, зная законы проекции, мы будем пробовать восстановить метрические размеры пространства вокруг нас.\n"
   ]
  },
  {
   "cell_type": "code",
   "execution_count": null,
   "metadata": {
    "collapsed": true
   },
   "outputs": [],
   "source": []
  }
 ],
 "metadata": {
  "kernelspec": {
   "display_name": "Python 2",
   "language": "python",
   "name": "python2"
  },
  "language_info": {
   "codemirror_mode": {
    "name": "ipython",
    "version": 2
   },
   "file_extension": ".py",
   "mimetype": "text/x-python",
   "name": "python",
   "nbconvert_exporter": "python",
   "pygments_lexer": "ipython2",
   "version": "2.7.5"
  }
 },
 "nbformat": 4,
 "nbformat_minor": 0
}
