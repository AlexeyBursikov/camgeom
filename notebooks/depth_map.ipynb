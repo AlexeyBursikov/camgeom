{
 "cells": [
  {
   "cell_type": "markdown",
   "metadata": {},
   "source": [
    "# Построение карты глубин с помощью opencv SGBM\n",
    "\n",
    "Данный практикум демонстрирует работу алгоритма построения плотной карты глубин.\n",
    "Исходными данными являются съемки со стереокамеры, установленной на трамвае (`data/images`).\n",
    "\n",
    "Калибровка проведена и ее результаты лежат в `data/calib_matrices`"
   ]
  },
  {
   "cell_type": "markdown",
   "metadata": {},
   "source": [
    "## Зачитывание входных изображений"
   ]
  },
  {
   "cell_type": "code",
   "execution_count": null,
   "metadata": {
    "collapsed": false
   },
   "outputs": [],
   "source": [
    "import os\n",
    "import cv2\n",
    "import matplotlib.pyplot as plt\n",
    "import numpy as np\n",
    "\n",
    "%matplotlib inline\n",
    "\n",
    "\n",
    "images_dir = '../data/depth_map/images'\n",
    "os.listdir(images_dir)"
   ]
  },
  {
   "cell_type": "code",
   "execution_count": null,
   "metadata": {
    "collapsed": false
   },
   "outputs": [],
   "source": [
    "# Отделяет идентификатор камеры от имени файла\n",
    "def parse_image_name(f):\n",
    "    parts = f.split('.')\n",
    "    image_id = '.'.join(parts[:3] + parts[4:-1])\n",
    "    camera_id = parts[3]\n",
    "    return (image_id, camera_id)\n",
    "\n",
    "# Выберем только картинки\n",
    "image_files = [f for f in os.listdir(images_dir) if os.path.splitext(f) == '.bmp']\n",
    "\n",
    "# Получим уникальные имена пар картинок\n",
    "image_ids = ['%02d' % i for i in range(5)]\n",
    "left_name  = '_left'\n",
    "right_name = '_righ'\n",
    "\n",
    "# Зачитаем пары входных изображений\n",
    "def read_image_pair(i, images_dir):  \n",
    "    l_fname = os.path.join(images_dir, i + left_name + '.bmp')\n",
    "    r_fname = os.path.join(images_dir, i + right_name + '.bmp')\n",
    "    print(l_fname, r_fname)\n",
    "    l = cv2.imread(l_fname)\n",
    "    r = cv2.imread(r_fname)\n",
    "    \n",
    "    # OpenCV зачитывает изображения в формате BGR, переведем иъ в RGB чтобы они\n",
    "    # нормально отображались pyplot\n",
    "    l = cv2.cvtColor(l, cv2.COLOR_BGR2RGB)\n",
    "    r = cv2.cvtColor(r, cv2.COLOR_BGR2RGB)\n",
    "    return (l, r)\n",
    "\n",
    "image_pairs = [read_image_pair(i, images_dir) for i in image_ids]\n",
    "\n",
    "# Отобразим зачитанные пары изображений\n",
    "def show_image_pairs(image_pairs):\n",
    "    for l, r in image_pairs:\n",
    "        plt.figure(figsize=(17,13))\n",
    "        plt.subplot(121)\n",
    "        plt.imshow(l)\n",
    "        plt.subplot(122)\n",
    "        plt.imshow(r)\n",
    "        plt.show()\n",
    "        \n",
    "show_image_pairs(image_pairs)\n"
   ]
  },
  {
   "cell_type": "markdown",
   "metadata": {},
   "source": [
    "## Зачитывание параметров ректификации\n",
    "\n",
    "Нам потребуются: матрицы проекции обеих камер M1, M2, и их коэффициенты радиальной дисторсии D1, D2.\n",
    "\n",
    "Так же понадобятся откалиброванные параметры взаимного размещения матриц: R, T"
   ]
  },
  {
   "cell_type": "code",
   "execution_count": null,
   "metadata": {
    "collapsed": false
   },
   "outputs": [],
   "source": [
    "calib_dir = '../data/depth_map/calib_matrices'\n",
    "\n",
    "M1 = np.loadtxt(os.path.join(calib_dir, 'M1'))\n",
    "M2 = np.loadtxt(os.path.join(calib_dir, 'M2'))\n",
    "D1 = np.loadtxt(os.path.join(calib_dir, 'D1'))\n",
    "D2 = np.loadtxt(os.path.join(calib_dir, 'D2'))\n",
    "R =  np.loadtxt(os.path.join(calib_dir, 'R'))\n",
    "T =  np.loadtxt(os.path.join(calib_dir, 'T'))\n",
    "\n",
    "# Изображение хранится в np.array в порядке HWC.\n",
    "# Получим размер изображения (W, H):\n",
    "sz = image_pairs[0][0].shape[1::-1]\n",
    "\n",
    "# Проверяем зачитанные параметры\n",
    "print('Left camera intrinsics:', M1, D1)\n",
    "print('Right camera intrinsics', M2, D2)\n",
    "print('Stereo Extrinsics:', R, T)\n",
    "print('baseline is %.2f meters' % np.linalg.norm(T))"
   ]
  },
  {
   "cell_type": "markdown",
   "metadata": {
    "collapsed": false
   },
   "source": [
    "Для ректификации необходимо рассчитать проективные ректифицирующие преобразования R1, R2 и новые матрицы камер P1, P2."
   ]
  },
  {
   "cell_type": "code",
   "execution_count": null,
   "metadata": {
    "collapsed": false
   },
   "outputs": [],
   "source": [
    "# Теперь рассчитаем ректифицирующие преобразования\n",
    "R1, R2, P1, P2, Q, roi1, roi2 = \\\n",
    "    cv2.stereoRectify(M1, D1, M2, D2, sz, R, T, alpha=0)\n",
    "lmap1, lmap2 = cv2.initUndistortRectifyMap(M1, D1, R1, P1, sz, cv2.CV_32FC1)\n",
    "rmap1, rmap2 = cv2.initUndistortRectifyMap(M2, D2, R2, P2, sz, cv2.CV_32FC1)\n",
    "\n",
    "def get_rectified_pair(l, r):\n",
    "    rect_l = cv2.remap(l, lmap1, lmap2, cv2.INTER_LINEAR)\n",
    "    rect_r = cv2.remap(r, rmap1, rmap2, cv2.INTER_LINEAR)\n",
    "    return rect_l, rect_r\n",
    "\n",
    "rectified_images = [get_rectified_pair(l, r) for l,r in image_pairs]\n",
    "\n",
    "show_image_pairs(rectified_images)\n"
   ]
  },
  {
   "cell_type": "markdown",
   "metadata": {},
   "source": [
    "## Применение стерео восстановления\n",
    "\n",
    "Описание параметров можно найти в [документации OpenCV](https://docs.opencv.org/3.2.0/d2/d85/classcv_1_1StereoSGBM.html#a58d7fac7a70b0a91ec15a46b5bb12e14)\n",
    "\n",
    "Поиграйтесь с параметрами, чтобы найти наилучшее восстановление."
   ]
  },
  {
   "cell_type": "code",
   "execution_count": null,
   "metadata": {
    "collapsed": false
   },
   "outputs": [],
   "source": [
    "# Параметры для карты глубин\n",
    "min_d = 4\n",
    "max_d = 16 * 9\n",
    "block_size = 3\n",
    "p1 = 100\n",
    "p2 = 1000\n",
    "disp12MaxDiff = 1\n",
    "preFilterCap = 2\n",
    "uniquenessRatio = 5 \n",
    "speckleWindowSize = 400# 50  \n",
    "speckleRange = 200# 2\n",
    "mode = cv2.StereoSGBM_MODE_HH\n",
    "\n",
    "# Объект-алгоритм SGBM\n",
    "\n",
    "sbgm = cv2.StereoSGBM_create(\n",
    "    min_d,\n",
    "    max_d,\n",
    "    block_size,\n",
    "    p1,\n",
    "    p2,\n",
    "    disp12MaxDiff,\n",
    "    preFilterCap,\n",
    "    uniquenessRatio,\n",
    "    speckleWindowSize,\n",
    "    speckleRange,\n",
    "    mode)\n",
    "\n",
    "disparities = [sbgm.compute(l,r) for l,r in rectified_images]\n",
    "disp_pairs = [(d, p[0]) for d, p in zip(disparities, rectified_images)]\n",
    "\n",
    "show_image_pairs(disp_pairs)"
   ]
  },
  {
   "cell_type": "markdown",
   "metadata": {
    "collapsed": false
   },
   "source": [
    "## Контрольные вопросы\n",
    "\n",
    "1. Почему картина карты глубин \"обрезана\" слева?\n",
    "2. Чем объяснить темную область сзади человека на последнем изображении?\n",
    "3. Чем объяснить артефакты карты глубин на outdoor изображениях?\n",
    "4. Чем объяснить артефакты карты глубит на нижней части изображений?\n",
    "5. Оцените теоретическую дальность восстановления стерео"
   ]
  },
  {
   "cell_type": "code",
   "execution_count": null,
   "metadata": {
    "collapsed": false
   },
   "outputs": [],
   "source": [
    "cv2.__version__"
   ]
  },
  {
   "cell_type": "code",
   "execution_count": null,
   "metadata": {
    "collapsed": true
   },
   "outputs": [],
   "source": []
  },
  {
   "cell_type": "code",
   "execution_count": null,
   "metadata": {
    "collapsed": true
   },
   "outputs": [],
   "source": []
  }
 ],
 "metadata": {
  "kernelspec": {
   "display_name": "Python 3",
   "language": "python",
   "name": "python3"
  },
  "language_info": {
   "codemirror_mode": {
    "name": "ipython",
    "version": 3
   },
   "file_extension": ".py",
   "mimetype": "text/x-python",
   "name": "python",
   "nbconvert_exporter": "python",
   "pygments_lexer": "ipython3",
   "version": "3.6.0"
  }
 },
 "nbformat": 4,
 "nbformat_minor": 2
}
