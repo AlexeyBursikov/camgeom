{
 "cells": [
  {
   "cell_type": "markdown",
   "metadata": {},
   "source": [
    "# Практическая работа номер 2\n",
    "## Калибровка камеры\n",
    "В этой практической работе вам предстоит освоить процесс калиборвки камеры от детектирования углов шахматки до запуска оптимизационной процедуры, вычисляющей параметры камеры\n",
    "\n",
    "\n",
    "для начала проверим что все модули установлены"
   ]
  },
  {
   "cell_type": "code",
   "execution_count": null,
   "metadata": {
    "collapsed": false
   },
   "outputs": [],
   "source": [
    "from __future__ import print_function\n",
    "import numpy as np\n",
    "import scipy\n",
    "import scipy.optimize\n",
    "import matplotlib\n",
    "import matplotlib.pyplot as plt\n",
    "import cv2\n",
    "\n",
    "import sys\n",
    "\n",
    "print('numpy version is', np.__version__)\n",
    "print('opnecv version is', cv2.__version__)\n",
    "print('scipy version is', scipy.__version__)\n",
    "print('python version is', sys.version)\n",
    "print('matplotlib version is', matplotlib.__version__)"
   ]
  },
  {
   "cell_type": "markdown",
   "metadata": {},
   "source": [
    "### Открыть видео\n",
    "Для зачитывания кадров видео будем использовать opencv\n",
    "Чтобы открыть видео или DirectShow\\v4l камеру нужно воспользоваться классм cv2.VideoCapture\n",
    "\n",
    "Пример зачитывания:"
   ]
  },
  {
   "cell_type": "code",
   "execution_count": null,
   "metadata": {
    "collapsed": false
   },
   "outputs": [],
   "source": [
    "cap = cv2.VideoCapture('../data/calib_video/2017_11_07.mp4')\n",
    "print('video is', '' if cap.isOpened() else 'not', 'opened')\n",
    "\n",
    "%matplotlib inline\n",
    "res, img = cap.read()\n",
    "plt.imshow(img)"
   ]
  },
  {
   "cell_type": "markdown",
   "metadata": {},
   "source": [
    "## Детектирование углов шахматки\n",
    "\n",
    "Исходными данными для задачи калибровки являются точки на объекте, расположение которых нам заведомо известно.\n",
    "Например - углы шахматной доски. Калибровочный паттерн может быть и другим. \n",
    "\n",
    "Чтобы задетектировать уголки шахматки можно воспользоваться детекторами особых точек, например FAST:"
   ]
  },
  {
   "cell_type": "code",
   "execution_count": null,
   "metadata": {
    "collapsed": false
   },
   "outputs": [],
   "source": [
    "fast = cv2.FastFeatureDetector_create()\n",
    "kp = fast.detect(img,None)\n",
    "img2 = cv2.drawKeypoints(img, kp, None, color=(255,0,0))\n",
    "plt.imshow(img2)"
   ]
  },
  {
   "cell_type": "markdown",
   "metadata": {},
   "source": [
    "Более удобным способом, сделанным специально для калибровки, является функция findChessboardCorners. Помимо детектирования шахматки, она перенумировывет определенным образом углы. Это важно, ведь если их нумерация перепутается, оптимизируемая функция будет содержать ошибку"
   ]
  },
  {
   "cell_type": "code",
   "execution_count": null,
   "metadata": {
    "collapsed": false
   },
   "outputs": [],
   "source": [
    "flags = cv2.CALIB_CB_ADAPTIVE_THRESH + cv2.CALIB_CB_NORMALIZE_IMAGE + cv2.CALIB_CB_FAST_CHECK   \n",
    "res, corners = cv2.findChessboardCorners(img, (7,7), flags=flags)\n",
    "\n",
    "img2 = cv2.drawChessboardCorners(img.copy(), (7,7), corners, res)\n",
    "plt.imshow(img2)"
   ]
  },
  {
   "cell_type": "markdown",
   "metadata": {},
   "source": [
    "### Задание 2.1 (*)\n",
    "Напишите функцию, детектирующую и пронумеровывающую углы шахматки, аналогично cv2.findChessboardCorners, но на основе анализа результатов FAST-детектора.\n",
    "Сравните время их работы с помощью модуля timeit"
   ]
  },
  {
   "cell_type": "code",
   "execution_count": null,
   "metadata": {
    "collapsed": true
   },
   "outputs": [],
   "source": [
    "# решение задания 2.1 (*)"
   ]
  },
  {
   "cell_type": "markdown",
   "metadata": {},
   "source": [
    "Теперь нужно запрограммировать модель объекта. координаты (X, Y, Z) точек шахматной доски в с.к., связанной с доской."
   ]
  },
  {
   "cell_type": "code",
   "execution_count": null,
   "metadata": {
    "collapsed": true
   },
   "outputs": [],
   "source": [
    "import itertools\n",
    "\n",
    "def get_obj_points(chessboard_size, cell_size):\n",
    "    pts = []\n",
    "    pts.append([(x * cell_size, y * cell_size, 0)\n",
    "                for (y, x) in itertools.product(range(0, chessboard_size[1]),\n",
    "                                                range(0, chessboard_size[0]))])\n",
    "    return np.array(pts, dtype='float32').reshape((\n",
    "        chessboard_size[0] * chessboard_size[1], 3, 1))\n",
    "\n",
    "\n",
    "obj_points = get_obj_points((7,7), 0.1) # шахматная доска 7 на 7, размер клетки - 10см."
   ]
  },
  {
   "cell_type": "markdown",
   "metadata": {},
   "source": [
    "### Задание 2.2\n",
    "1) Необходимо ответить на вопрос, как расположена с.к. паттерна-шахматки? \n",
    "\n",
    "2) Отобразите с помощью функции drawChessboardCorners, как пронумерованы клетки шахматки в object_points "
   ]
  },
  {
   "cell_type": "markdown",
   "metadata": {},
   "source": [
    "#### Ответ на 2.2.1)\n",
    "..."
   ]
  },
  {
   "cell_type": "code",
   "execution_count": null,
   "metadata": {
    "collapsed": true
   },
   "outputs": [],
   "source": [
    "# код ответа на 2.2.2)\n"
   ]
  },
  {
   "cell_type": "markdown",
   "metadata": {},
   "source": [
    "## Начальные значения\n",
    "\n",
    "Любая численная оптимизация работает лучше, если начинать вблизи экстремума. \n",
    "В задаче калибровки нормальным будет взять за начальное приближение нулевой вектор дисторсии и фокусное расстояние, прикинутое из углов раствора камеры.\n",
    "Сделаем это.\n",
    "\n",
    "### Задание 2.3\n",
    "Написать функцию, генерирующую матрицу камеры и параметры дисторсии для заданного размера изображения и угла раствора камеры\n",
    "Функция принимает параметры:\n",
    "* angle_deg --- горизонтальный угол раствора камеры в градусах\n",
    "* img_size --- размеры изображения"
   ]
  },
  {
   "cell_type": "code",
   "execution_count": null,
   "metadata": {
    "collapsed": true
   },
   "outputs": [],
   "source": [
    "# решение задачи 2.3\n",
    "def guess_intrinsics(angle_deg, img_size):\n",
    "    pass;"
   ]
  },
  {
   "cell_type": "code",
   "execution_count": null,
   "metadata": {
    "collapsed": false
   },
   "outputs": [],
   "source": [
    "p_init = np.eye(3, dtype=np.float32)\n",
    "d_init = np.zeros([3,], dtype=np.float32)\n",
    "r_init = np.zeros([3,], dtype=np.float32)\n",
    "t_init = np.array([0, 0, 3.0], dtype=np.float32)\n",
    "\n",
    "# воспользуемся нашим начальным приближением\n",
    "p_init, d_init = guess_intrinsics(90, img.shape[1::-1])\n",
    "\n",
    "# p_init = np.array([[965.59562, 0.0, 1024.0],\n",
    "#                    [0.0, 965.59562, 544.0],\n",
    "#                    [0.0, 0.0, 1]],\n",
    "#                   dtype='float32')\n",
    "\n",
    "# полный вектор начальных значений.\n",
    "x_init = np.array([p_init[0,0], p_init[0,2], p_init[1,2],\n",
    "                   d_init[0], d_init[1], d_init[2],\n",
    "                   r_init[0], r_init[1], r_init[2], \n",
    "                   t_init[0], t_init[1], t_init[2]], dtype=np.float32)\n"
   ]
  },
  {
   "cell_type": "markdown",
   "metadata": {},
   "source": [
    "## Минимизируемая функция\n",
    "Суть калибровки - в минимизации ошибки репроекции точек шахматки по набору неизвестных параметров.\n",
    "Для этой минимизации мы будем использовать готовую реализацию алгоритма Левенберга-Марквадта из пакета научных вычиследний scipy: ```scipy.optimize.least_squares```\n",
    "https://docs.scipy.org/doc/scipy/reference/generated/scipy.optimize.least_squares.html#scipy.optimize.least_squares"
   ]
  },
  {
   "cell_type": "code",
   "execution_count": null,
   "metadata": {
    "collapsed": false
   },
   "outputs": [],
   "source": [
    "# вариант 1. используем Opencv-шную функцию.\n",
    "def projection_helper(x):\n",
    "    cam_mat = np.array([[x[0], 0, x[1]],\n",
    "                        [0, x[0], x[2]],\n",
    "                        [0,    0,    1]],\n",
    "                      dtype=np.float32)\n",
    "    dist = np.array([x[3], x[4], 0, 0, x[5]], dtype=np.float32)\n",
    "    r = x[6:9]\n",
    "    t = x[9:]\n",
    "    # функция cv2.projectPoints сразу возвращает и якобиан тоже\n",
    "    pts, jac = cv2.projectPoints(obj_points, r, t, cam_mat, dist)\n",
    "    return (pts, jac)\n",
    "\n",
    "def f_projection(x):\n",
    "    pts, jac = projection_helper(x)\n",
    "    pts = pts - corners\n",
    "    #return pts.reshape(-1)\n",
    "    return np.sqrt(pts[:,0,0] ** 2 + pts[:,0,1] ** 2)\n",
    "\n",
    "def jac_projection(x):\n",
    "    pts, jac = projection_helper(x)\n",
    "    pts = pts - corners\n",
    "    dists = np.sqrt(pts[:,0,0] ** 2 + pts[:,0,1] ** 2)\n",
    "    jac = jac.reshape(pts.shape[0], 2, -1)\n",
    "    # составляем новый якобиан из наших переменных\n",
    "    new_jac = jac[:, :, [6, 8, 9, 10, 11, 14, 0, 1, 2, 3, 4, 5]]\n",
    "    new_jac[:, :, 0] += jac[:, :, 7]\n",
    "    jac = new_jac\n",
    "    # вычисляем якобиан целевой функции\n",
    "    #return jac.reshape(-1, jac.shape[-1])\n",
    "    return (pts[:, 0, 0] / dists)[:, np.newaxis] * jac[:, 0, :] + \\\n",
    "           (pts[:, 0, 1] / dists)[:, np.newaxis] * jac[:, 1, :]"
   ]
  },
  {
   "cell_type": "markdown",
   "metadata": {},
   "source": [
    "### Задание 2.4\n",
    "Отобразите текущее значение проекции точек на картинке img"
   ]
  },
  {
   "cell_type": "code",
   "execution_count": null,
   "metadata": {
    "collapsed": false
   },
   "outputs": [],
   "source": [
    "# решение задачи 2.4\n"
   ]
  },
  {
   "cell_type": "markdown",
   "metadata": {},
   "source": [
    "\n",
    "\n",
    "## Запуск минимизации\n",
    "Итак, пришло время запустить оптимизацию и получить откалиброванные значения\n",
    "функция ```scipy.optimize.least_squares``` имеет множество параметров, таких как критерии останова, масштабы аргуметов и целевой функции, кастомизация функции потерь и прочее.\n",
    "Нас интересуют только `method`, `fun` и `jac` и `x0`"
   ]
  },
  {
   "cell_type": "code",
   "execution_count": null,
   "metadata": {
    "collapsed": false
   },
   "outputs": [],
   "source": [
    "opt_res = scipy.optimize.least_squares(f_projection, x_init, jac=jac_projection, method='lm')\n",
    "print(opt_res)"
   ]
  },
  {
   "cell_type": "code",
   "execution_count": null,
   "metadata": {
    "collapsed": false
   },
   "outputs": [],
   "source": [
    "x = opt_res['x']\n",
    "cam_mat = np.array([[x[0], 0, x[1]],\n",
    "                    [0, x[0], x[2]],\n",
    "                    [0,    0,    1]],\n",
    "                      dtype=np.float32)\n",
    "dist = np.array([x[3], x[4], 0, 0, x[5]], dtype=np.float32)\n",
    "r = x[6:9]\n",
    "t = x[9:]\n",
    "print('K = ', cam_mat)\n",
    "print('distortion = ', dist)\n",
    "print('r = ', r)\n",
    "print('t = ', t)"
   ]
  },
  {
   "cell_type": "markdown",
   "metadata": {},
   "source": [
    "### Задание 2.5 \n",
    "Реализуйте вычисление f через функцию projectpt из первой практической работы. В этом случае вычислять якобиан будем с помощью разностной схемы. Запустите минимизацию с вашей функцией и соответствующим параметром jac"
   ]
  },
  {
   "cell_type": "code",
   "execution_count": null,
   "metadata": {
    "collapsed": true
   },
   "outputs": [],
   "source": [
    "# решение задачи 2.5\n"
   ]
  },
  {
   "cell_type": "markdown",
   "metadata": {},
   "source": [
    "### Задание 2.6 (*)\n",
    "Реализуйте вычисление Якобиана для вашей функции projectPt. Запустите оптимизацию. Вывод якобиана можете в tex-нотации набить в отдельной клетке markdown, вот так: $\\frac {\\partial y} {\\partial \\theta}$"
   ]
  },
  {
   "cell_type": "code",
   "execution_count": null,
   "metadata": {
    "collapsed": true
   },
   "outputs": [],
   "source": []
  },
  {
   "cell_type": "markdown",
   "metadata": {},
   "source": [
    "## Проверка решения\n",
    "Попробуем воспользоваться полученными значениями"
   ]
  },
  {
   "cell_type": "code",
   "execution_count": null,
   "metadata": {
    "collapsed": false
   },
   "outputs": [],
   "source": [
    "und = cv2.undistort(img, cam_mat, dist)\n",
    "pts, _ = cv2.projectPoints(obj_points, r, t, cam_mat, np.zeros((5,), dtype=np.float32))\n",
    "und = cv2.drawChessboardCorners(und, (7,7), pts, res)\n",
    "plt.imshow(und)"
   ]
  },
  {
   "cell_type": "markdown",
   "metadata": {},
   "source": [
    "Как видно, целевая функция, действитео, оптимизирована: точки лежат довольно хорошо на искаженной картинке. Однако мы явно не добились желаемого эффекта.\n",
    "\n",
    "Проблем в том, что наш паттерн находился только в одном регионе изображения, и алгоритм оптимизации пришел в минимум, который не будет удовлетворять другим ионам изображения. В машинном обучении это называется переобучение или overfitting.\n",
    "\n",
    "Для того чтобы получить правильные параметры калибровки, нужно испьзовать больше чем один кадр. Так, чтобы изображение паттерна в равной степени заметало все регионы исходного изображения."
   ]
  },
  {
   "cell_type": "markdown",
   "metadata": {},
   "source": [
    "### Задание 2.7\n",
    "Модифицируйте целевую функцию так, чтобы она брала в рассмотрение Несколько кдров одновременно. (попробуйте взять в районе 40).\n",
    "Запустите алгоритм на \n",
    "\n",
    "1) всех изображениях сразу\n",
    "\n",
    "2) рандомного подмножества изображений (*)\n",
    "\n",
    "\n",
    "Note: при решении этого задания следует переписать все что было ранее в клетках ниже, а не изменять то что сверху уже написано и выполнилось, чтобы упростить преподавателю проверку вашего задания."
   ]
  },
  {
   "cell_type": "code",
   "execution_count": null,
   "metadata": {
    "collapsed": true
   },
   "outputs": [],
   "source": [
    "# решение задания 2.7"
   ]
  },
  {
   "cell_type": "markdown",
   "metadata": {},
   "source": [
    "## Конец\n",
    "надеюсь, задание вам понравилось и делать его было так же интересно, как мне было интересно его составлять"
   ]
  },
  {
   "cell_type": "code",
   "execution_count": null,
   "metadata": {
    "collapsed": true
   },
   "outputs": [],
   "source": []
  }
 ],
 "metadata": {
  "kernelspec": {
   "display_name": "Python 3",
   "language": "python",
   "name": "python3"
  },
  "language_info": {
   "codemirror_mode": {
    "name": "ipython",
    "version": 3
   },
   "file_extension": ".py",
   "mimetype": "text/x-python",
   "name": "python",
   "nbconvert_exporter": "python",
   "pygments_lexer": "ipython3",
   "version": "3.6.0"
  }
 },
 "nbformat": 4,
 "nbformat_minor": 2
}
